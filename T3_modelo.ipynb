{
  "cells": [
    {
      "cell_type": "markdown",
      "metadata": {
        "id": "view-in-github",
        "colab_type": "text"
      },
      "source": [
        "<a href=\"https://colab.research.google.com/github/TutuBraz/metodos_num/blob/main/T3_modelo.ipynb\" target=\"_parent\"><img src=\"https://colab.research.google.com/assets/colab-badge.svg\" alt=\"Open In Colab\"/></a>"
      ]
    },
    {
      "cell_type": "markdown",
      "metadata": {
        "id": "2Ml99eVzCWk7"
      },
      "source": [
        "# Trabalho T3 - Aproximação de Funções: \n",
        "## Interpolação e ajuste por mínimos quadrados \n",
        "\n",
        "### Métodos Numéricos Computacionais - 2º Semestre de 2022\n",
        "\n",
        "**Curso:**Estatística\n",
        "\n",
        "**Turma:**\n",
        "\n",
        "**Nome(s):**Arthur Braz Santos"
      ]
    },
    {
      "cell_type": "code",
      "source": [
        "import numpy as np\n",
        "import matplotlib.pyplot as plt\n",
        "from scipy.linalg import solve"
      ],
      "metadata": {
        "id": "gfcmKZoHfiNW"
      },
      "execution_count": 1,
      "outputs": []
    },
    {
      "cell_type": "markdown",
      "metadata": {
        "id": "34Alw_WNewUf"
      },
      "source": [
        "**1.** Dada a tabela a seguir, de valores de uma função $f$,\n",
        "\n",
        "$$\n",
        "\t\t\\begin{array}{cccccccccc}\n",
        "\t\t\t\\hline\n",
        "\t\t\tx   &0.15&  0.17&  0.19&  0.21&  0.23&  0.25&  0.27\\\\ \\hline\n",
        "\t\t\tf(x) &0.1761& 0.2304& 0.2788& 0.3222& 0.3617& 0.3979& 0.4314  \\\\ \\hline\n",
        "\t\t\\end{array}\n",
        "$$\n",
        "\n",
        "(a) Encontre o polinômio interpolador para os pontos tabelados.\n",
        "\n",
        "(b) Utilize todos os pontos para estimar $f(0,22)$ por interpolação com a fórmula de lagrange.\n",
        "\n",
        "(c) Plote o gráfico do polinômio obtido juntamente com os pontos tabelados e o ponto calculado na letra (b) para visualizar o resultado da interpolação.\n",
        "\n",
        "(d) Escolha 4 pontos e estime $f(0,22)$ utilizando um polinomio de terceiro grau. Plote o gráfico e compare com o resultado do item anterior. Comente.\n"
      ]
    },
    {
      "cell_type": "code",
      "source": [
        "xi = np.array([0.15, 0.17, 0.19, 0.21, 0.23, 0.25, 0.27], dtype='float')\n",
        "yi = np.array([0.1761, 0.2304, 0.2788,0.3222,0.3617,0.3979, 0.4314], dtype='float')"
      ],
      "metadata": {
        "id": "TLlAjGiOffsY"
      },
      "execution_count": 2,
      "outputs": []
    },
    {
      "cell_type": "code",
      "source": [
        "#Polinomio interpolador\n",
        "A = np.array([xi**0,xi**1,xi**2,xi**3,xi**4,xi**5,xi**6]).T\n",
        "ai = np.linalg.solve(A,yi)\n",
        "coeffs = np.flipud(ai) # reverte a ordem\n",
        "\n",
        "print (\"Coeficientes:\", coeffs)\n",
        "print (\" P(xi):\", np.polyval(coeffs,xi))"
      ],
      "metadata": {
        "colab": {
          "base_uri": "https://localhost:8080/"
        },
        "id": "Z8Drp_mZutZP",
        "outputId": "4b41af39-2b0d-46d5-8750-4554b248402e"
      },
      "execution_count": 3,
      "outputs": [
        {
          "output_type": "stream",
          "name": "stdout",
          "text": [
            "Coeficientes: [ 2.60416667e+04 -3.30729167e+04  1.73177083e+04 -4.76692708e+03\n",
            "  7.19283594e+02 -5.30979766e+01  1.49304844e+00]\n",
            " P(xi): [0.1761 0.2304 0.2788 0.3222 0.3617 0.3979 0.4314]\n"
          ]
        }
      ]
    },
    {
      "cell_type": "code",
      "source": [
        "#polinomio\n",
        "y = lambda x: 2.60416667e+04*x**6 -3.30729167e+04*x**5 + 1.73177083e+04*x**4 -4.76692708e+03*x**3 + 7.19283594e+02*x**2 -5.30979766e+01*x + 1.49304844e+00"
      ],
      "metadata": {
        "id": "-1iO4gDd0f6K"
      },
      "execution_count": 4,
      "outputs": []
    },
    {
      "cell_type": "code",
      "source": [
        "def calculaPl(x,X,Y):\n",
        "    valor = 0\n",
        "    for k in range(len(X)):\n",
        "        lk = 1.0\n",
        "        for i in range(len(X)):\n",
        "            if k != i:\n",
        "                lk = lk*(x - X[i])/(X[k]-X[i])\n",
        "        valor = valor + Y[k]*lk \n",
        "    return valor"
      ],
      "metadata": {
        "id": "_uk93dH06skX"
      },
      "execution_count": 5,
      "outputs": []
    },
    {
      "cell_type": "code",
      "source": [
        "#F(x)=0.22\n",
        "f = calculaPl(0.22, xi,yi)\n",
        "f"
      ],
      "metadata": {
        "colab": {
          "base_uri": "https://localhost:8080/"
        },
        "id": "0su1JqFQ2ir8",
        "outputId": "523d0e1e-94f9-4723-c14b-f08db5458f0f"
      },
      "execution_count": 6,
      "outputs": [
        {
          "output_type": "execute_result",
          "data": {
            "text/plain": [
              "0.3423882812499999"
            ]
          },
          "metadata": {},
          "execution_count": 6
        }
      ]
    },
    {
      "cell_type": "code",
      "source": [
        "x = np.linspace(0.14,0.28)\n",
        "\n",
        "fig, ax = plt.subplots()\n",
        "ax.plot(xi, yi, \".\")\n",
        "ax.plot(x, y(x),'-')\n",
        "ax.plot(0.22, f, 'o')\n",
        "ax.legend(['Pontos', 'Aproximação', 'f(0.22)'])\n",
        "plt.grid()\n",
        "plt.show();"
      ],
      "metadata": {
        "colab": {
          "base_uri": "https://localhost:8080/",
          "height": 265
        },
        "id": "5a_f_MVk2icK",
        "outputId": "a71da42f-eccf-48b9-d812-4d59a2b0d8b7"
      },
      "execution_count": 7,
      "outputs": [
        {
          "output_type": "display_data",
          "data": {
            "text/plain": [
              "<Figure size 432x288 with 1 Axes>"
            ],
            "image/png": "[encoded data removed]"
          },
          "metadata": {
            "needs_background": "light"
          }
        }
      ]
    },
    {
      "cell_type": "code",
      "source": [
        "X = np.array([0.15, 0.17, 0.19, 0.21], dtype='float')\n",
        "Y = np.array([0.1761, 0.2304, 0.2788,0.3222], dtype='float')\n",
        "\n",
        "A = np.array([X**0, X**1, X**2, X**3]).T\n",
        "ai = np.linalg.solve(A,Y)\n",
        "coeffs = np.flipud(ai) # reverte a ordem\n",
        "\n",
        "print (\"Coeficientes:\", coeffs)\n",
        "print (\" P(xi):\", np.polyval(coeffs,X))"
      ],
      "metadata": {
        "id": "7OKZeCndffmQ",
        "colab": {
          "base_uri": "https://localhost:8080/"
        },
        "outputId": "f575866a-99c4-4146-c046-d886e712f504"
      },
      "execution_count": 8,
      "outputs": [
        {
          "output_type": "stream",
          "name": "stdout",
          "text": [
            "Coeficientes: [ 18.75       -16.9375       6.693125    -0.51005625]\n",
            " P(xi): [0.1761 0.2304 0.2788 0.3222]\n"
          ]
        }
      ]
    },
    {
      "cell_type": "code",
      "source": [
        "f = lambda x: 18.75 *x**3 -16.9375*x**2 +6.693125 *x  -0.51005625"
      ],
      "metadata": {
        "id": "eFIjAT4SffiZ"
      },
      "execution_count": 9,
      "outputs": []
    },
    {
      "cell_type": "code",
      "source": [
        "p = np.linspace(0.14,0.23)\n",
        "\n",
        "plt.plot(X, Y, 'o', p, f(p),'-',color='black')\n",
        "plt.grid()\n",
        "plt.show()"
      ],
      "metadata": {
        "colab": {
          "base_uri": "https://localhost:8080/",
          "height": 265
        },
        "id": "_KZ2eF2pHprE",
        "outputId": "d518d592-0420-4a06-9a71-8b343804fab3"
      },
      "execution_count": 10,
      "outputs": [
        {
          "output_type": "display_data",
          "data": {
            "text/plain": [
              "<Figure size 432x288 with 1 Axes>"
            ],
            "image/png": "[encoded data removed]"
          },
          "metadata": {
            "needs_background": "light"
          }
        }
      ]
    },
    {
      "cell_type": "code",
      "source": [
        "f(0.22)"
      ],
      "metadata": {
        "colab": {
          "base_uri": "https://localhost:8080/"
        },
        "id": "qwUzTp2IJV2N",
        "outputId": "13b02562-3ec6-4b30-eba3-449564190f60"
      },
      "execution_count": 11,
      "outputs": [
        {
          "output_type": "execute_result",
          "data": {
            "text/plain": [
              "0.34230625000000003"
            ]
          },
          "metadata": {},
          "execution_count": 11
        }
      ]
    },
    {
      "cell_type": "code",
      "source": [
        "y(0.22)"
      ],
      "metadata": {
        "colab": {
          "base_uri": "https://localhost:8080/"
        },
        "id": "na3GqL7uJaPL",
        "outputId": "e78074f6-b940-4b6d-d5fa-07c595bbe2fe"
      },
      "execution_count": 12,
      "outputs": [
        {
          "output_type": "execute_result",
          "data": {
            "text/plain": [
              "0.34238823160855336"
            ]
          },
          "metadata": {},
          "execution_count": 12
        }
      ]
    },
    {
      "cell_type": "markdown",
      "source": [
        "Por possuirem pontos em comun os polinômios conseguem representar bem os pontos em seu intervalo dos pontos, porém o polinômio de grau 3 não consegue representar com precisão os pontos fora do se intervalo de pontos o que é diferente no polinômio de grau 6."
      ],
      "metadata": {
        "id": "r2GXL7PDJcvY"
      }
    },
    {
      "cell_type": "markdown",
      "metadata": {
        "id": "-awgrUVTAZmv"
      },
      "source": [
        "**2.** \n",
        "O volume específico de um vapor superaquecido está listado nas tabelas de vapor para diversas temperaturas. por exemplo, na pressão absoluta de 3000 lb/pol$^2$:\n",
        "\n",
        "$$\n",
        "\t\\begin{array}{cccccc}\n",
        "\t\t\t\\hline\n",
        "\t\t\tT, ^\\circ F &700 &720 &740 &760 &780 \\\\ \\hline\n",
        "\t\t\tv, pés^3/lb_m &0,0977 &0,12184 &0,14060 &0,15509 &0,16643  \\\\\n",
        "\t\t\t\\hline\n",
        "\t\t\\end{array}\n",
        "$$\t\n",
        "\n",
        "Use interpolação para obter uma tabela que forneça $v$ a cada 5$^\\circ$ entre as temperaturas 720$^\\circ$ e 760$^\\circ$ usando a fórmula de Lagrange e a fórmula de Newton. Compare os resultados e comente o que você observou."
      ]
    },
    {
      "cell_type": "code",
      "source": [
        "t = np.array([700, 720, 740, 760, 780])\n",
        "v = np.array([0.0977, 0.12184, 0.14060, 0.15509, 0.16643])"
      ],
      "metadata": {
        "id": "tFjqV_MFLOfA"
      },
      "execution_count": 13,
      "outputs": []
    },
    {
      "cell_type": "code",
      "source": [
        "plt.plot(t,v, 'o')"
      ],
      "metadata": {
        "colab": {
          "base_uri": "https://localhost:8080/",
          "height": 282
        },
        "id": "Jj8lQSsZQ4ZS",
        "outputId": "a38827ad-6c6c-4401-ce14-3171ca35c0fd"
      },
      "execution_count": 14,
      "outputs": [
        {
          "output_type": "execute_result",
          "data": {
            "text/plain": [
              "[<matplotlib.lines.Line2D at 0x7f9abd4a9cd0>]"
            ]
          },
          "metadata": {},
          "execution_count": 14
        },
        {
          "output_type": "display_data",
          "data": {
            "text/plain": [
              "<Figure size 432x288 with 1 Axes>"
            ],
            "image/png": "[encoded data removed]"
          },
          "metadata": {
            "needs_background": "light"
          }
        }
      ]
    },
    {
      "cell_type": "code",
      "source": [
        "A = np.array([t**0,t**1,t**2,t**3, t**4]).T\n",
        "ai = np.linalg.solve(A,v)\n",
        "coeffs = np.flipud(ai) # reverte a ordem\n",
        "\n",
        "print (\"Coeficientes:\", coeffs)\n",
        "print (\" P(xi):\", np.polyval(coeffs,t))"
      ],
      "metadata": {
        "colab": {
          "base_uri": "https://localhost:8080/"
        },
        "id": "c3bHCV35LObI",
        "outputId": "4130025d-9655-4ac4-c5fa-15e4018d6ba1"
      },
      "execution_count": 15,
      "outputs": [
        {
          "output_type": "stream",
          "name": "stdout",
          "text": [
            "Coeficientes: [ 2.60416667e-12  1.55208333e-08 -4.83510417e-05  4.26627917e-02\n",
            " -1.20231500e+01]\n",
            " P(xi): [0.0977  0.12184 0.1406  0.15509 0.16643]\n"
          ]
        }
      ]
    },
    {
      "cell_type": "code",
      "source": [
        "func = lambda x: 2.60416667e-12*x**4 +1.55208333e-08*x**3 -4.83510417e-05*x**2 +4.26627917e-02*x -1.20231500e+01\n",
        "\n",
        "tl = []\n",
        "vl = []\n",
        "for i in range(720, 761, 5):\n",
        "  tl.append(calculaPl(i, t,v))\n",
        "  vl.append(i)\n",
        "print(tl)\n",
        "print(vl)"
      ],
      "metadata": {
        "id": "2mDTzd_qNBEH",
        "colab": {
          "base_uri": "https://localhost:8080/"
        },
        "outputId": "7c0e40ad-5058-4a25-adf6-4e83956eee4b"
      },
      "execution_count": 16,
      "outputs": [
        {
          "output_type": "stream",
          "name": "stdout",
          "text": [
            "[0.12184, 0.1269911865234375, 0.13182335937499998, 0.13635384277343748, 0.1406, 0.1445792333984375, 0.148308984375, 0.15180673339843748, 0.15509]\n",
            "[720, 725, 730, 735, 740, 745, 750, 755, 760]\n"
          ]
        }
      ]
    },
    {
      "cell_type": "code",
      "source": [
        "# uma função para calcular as diferenças divididas\n",
        "def difdiv(x,y):\n",
        "    m = len(x)\n",
        "    dd = y.copy()\n",
        "    for k in range(1,m):\n",
        "        dd[k:m]=(dd[k:m]-dd[k-1])/(x[k:m]-x[k-1])\n",
        "    return dd\n",
        "\n",
        "def calculaP(f,xi,x):\n",
        "    n = len(xi) - 1\n",
        "    p = f[n]\n",
        "    for i in range(1,n+1):\n",
        "        p = f[n-i] + (x -xi[n-i])*p\n",
        "    return p"
      ],
      "metadata": {
        "id": "dqCIKZITa8r2"
      },
      "execution_count": 17,
      "outputs": []
    },
    {
      "cell_type": "code",
      "source": [
        "ti = np.array([720, 725, 730, 735, 740, 745, 750, 755, 760])\n",
        "vi = func(ti)\n",
        "\n",
        "g = difdiv(ti,vi)"
      ],
      "metadata": {
        "id": "dQayYFazAA6d"
      },
      "execution_count": 18,
      "outputs": []
    },
    {
      "cell_type": "code",
      "source": [
        "# Cria a lista de pontos\n",
        "xp = np.linspace(720, 760, num=9) \n",
        "yp = []\n",
        "for x in xp:\n",
        "    y = calculaP(g, xp,x)\n",
        "    yp.append(y)\n",
        "yp"
      ],
      "metadata": {
        "colab": {
          "base_uri": "https://localhost:8080/"
        },
        "id": "PI8nceUMa-tS",
        "outputId": "c0cc38d8-de19-400f-dcd3-72856b4e6c8d"
      },
      "execution_count": 19,
      "outputs": [
        {
          "output_type": "execute_result",
          "data": {
            "text/plain": [
              "[0.12183999517419686,\n",
              " 0.12699118138760745,\n",
              " 0.13182335392437672,\n",
              " 0.13635383700323622,\n",
              " 0.14059999390542366,\n",
              " 0.14457922697465797,\n",
              " 0.14830897761718909,\n",
              " 0.15180672630173753,\n",
              " 0.1550899925595406]"
            ]
          },
          "metadata": {},
          "execution_count": 19
        }
      ]
    },
    {
      "cell_type": "code",
      "source": [
        "tl"
      ],
      "metadata": {
        "colab": {
          "base_uri": "https://localhost:8080/"
        },
        "id": "4OOSYuFVC5Ze",
        "outputId": "d81f561a-6efe-423d-923e-6da0193a3bb4"
      },
      "execution_count": 20,
      "outputs": [
        {
          "output_type": "execute_result",
          "data": {
            "text/plain": [
              "[0.12184,\n",
              " 0.1269911865234375,\n",
              " 0.13182335937499998,\n",
              " 0.13635384277343748,\n",
              " 0.1406,\n",
              " 0.1445792333984375,\n",
              " 0.148308984375,\n",
              " 0.15180673339843748,\n",
              " 0.15509]"
            ]
          },
          "metadata": {},
          "execution_count": 20
        }
      ]
    },
    {
      "cell_type": "code",
      "source": [
        "plt.plot(vl,tl, '--',color='black')\n",
        "plt.plot(xp, yp, color = 'yellow')"
      ],
      "metadata": {
        "colab": {
          "base_uri": "https://localhost:8080/",
          "height": 282
        },
        "id": "eXZ6LJkmUokL",
        "outputId": "4f1300f0-ead3-4c2e-beb6-7253aee321bc"
      },
      "execution_count": 21,
      "outputs": [
        {
          "output_type": "execute_result",
          "data": {
            "text/plain": [
              "[<matplotlib.lines.Line2D at 0x7f9abd425730>]"
            ]
          },
          "metadata": {},
          "execution_count": 21
        },
        {
          "output_type": "display_data",
          "data": {
            "text/plain": [
              "<Figure size 432x288 with 1 Axes>"
            ],
            "image/png": "[encoded data removed]"
          },
          "metadata": {
            "needs_background": "light"
          }
        }
      ]
    },
    {
      "cell_type": "code",
      "source": [
        "vl"
      ],
      "metadata": {
        "colab": {
          "base_uri": "https://localhost:8080/"
        },
        "id": "TO-JXex4VWud",
        "outputId": "94c586c2-a07c-4e52-f56c-de8773cb5578"
      },
      "execution_count": 22,
      "outputs": [
        {
          "output_type": "execute_result",
          "data": {
            "text/plain": [
              "[720, 725, 730, 735, 740, 745, 750, 755, 760]"
            ]
          },
          "metadata": {},
          "execution_count": 22
        }
      ]
    },
    {
      "cell_type": "markdown",
      "source": [
        "A fórmula de Lagrange e Newton apresentam resultados parecidos, porém com uma diferença no arredondamento por causa dos cálculos feitos pelo computador."
      ],
      "metadata": {
        "id": "i_NYjyb6IFbV"
      }
    },
    {
      "cell_type": "markdown",
      "metadata": {
        "id": "_DURXCZhECOD"
      },
      "source": [
        "**3.** Considere a função \n",
        "$$f(x)=\\frac{3.21}{0.73 + 9.81x^2}$$\n",
        "\n",
        "(a) Aproxime o valor de $f(1.78)$ usando um polinômio interpolador de grau 3 no intervalo [1, 2] e compare com o valor da função. Mostre o gráfico do polinômio e da função nesse intervalo. \n",
        "\n",
        "(b) Repita o item anterior, mas dessa vez utilize um polinômio de grau 10 no intervalo [-2,2] e comente o que você observou. \n",
        "\t\n",
        "(c) Pesquise e responda o que é \"Fenômeno de Runge\".\n"
      ]
    },
    {
      "cell_type": "code",
      "execution_count": 23,
      "metadata": {
        "id": "hTN0I39vewUj",
        "colab": {
          "base_uri": "https://localhost:8080/"
        },
        "outputId": "3103d494-5f08-4c21-a53f-380ba6c12634"
      },
      "outputs": [
        {
          "output_type": "stream",
          "name": "stdout",
          "text": [
            "[ 0.30455408 -0.38366774  0.29677148 -0.17290692]\n"
          ]
        }
      ],
      "source": [
        "func = lambda x: 3.21/(0.73+9.81*x**2)\n",
        "xi = np.linspace(1.0, 2.0, num=4)\n",
        "yi = func(xi)\n",
        "\n",
        "f = difdiv(xi,yi)\n",
        "print (f)"
      ]
    },
    {
      "cell_type": "code",
      "source": [
        "#Polinomio interpolador\n",
        "print (\"P(1.78) =\", calculaP(f,xi,1.78))"
      ],
      "metadata": {
        "colab": {
          "base_uri": "https://localhost:8080/"
        },
        "id": "Bj7JmqRHJ46S",
        "outputId": "d9295825-98b6-4454-b153-80eab638fe88"
      },
      "execution_count": 24,
      "outputs": [
        {
          "output_type": "stream",
          "name": "stdout",
          "text": [
            "P(1.78) = 0.10186113819231793\n"
          ]
        }
      ]
    },
    {
      "cell_type": "code",
      "source": [
        "#Valor da função\n",
        "print(func(1.78))"
      ],
      "metadata": {
        "colab": {
          "base_uri": "https://localhost:8080/"
        },
        "id": "LCaeK4HcJ4tY",
        "outputId": "c5ecd1d5-f10e-467d-cf1a-fda807e7f5d5"
      },
      "execution_count": 25,
      "outputs": [
        {
          "output_type": "stream",
          "name": "stdout",
          "text": [
            "0.10090530605993887\n"
          ]
        }
      ]
    },
    {
      "cell_type": "code",
      "source": [
        "xp = np.linspace(0.9, 2.1)\n",
        "yp = []\n",
        "\n",
        "for x in xp:\n",
        "    yp.append(calculaP(f,xi,x))\n",
        "\n",
        "plt.plot(xi, yi, \"ro\", \n",
        "         xp, yp, \"--\",\n",
        "         xp, func(xp),\"-\",\n",
        "         color='black')\n",
        "plt.legend(['pontos dados', 'Fórmula de Newton', 'Valor real'])\n",
        "plt.grid()\n",
        "plt.show()"
      ],
      "metadata": {
        "colab": {
          "base_uri": "https://localhost:8080/",
          "height": 265
        },
        "id": "OQ9v6qYMMZsJ",
        "outputId": "24f78d94-c7e5-40fc-c07a-56902066156c"
      },
      "execution_count": 26,
      "outputs": [
        {
          "output_type": "display_data",
          "data": {
            "text/plain": [
              "<Figure size 432x288 with 1 Axes>"
            ],
            "image/png": "[encoded data removed]"
          },
          "metadata": {
            "needs_background": "light"
          }
        }
      ]
    },
    {
      "cell_type": "markdown",
      "source": [
        "Podemos vizulizar que conseguimos um valor muito próximo ao valor real da função no pontos dados, porém por ser uma aproximação sempre será uma valor muito próximo."
      ],
      "metadata": {
        "id": "dB_HlsMoMzEV"
      }
    },
    {
      "cell_type": "code",
      "source": [
        "xi = np.linspace(-2.0, 2.0, num=10)\n",
        "yi = func(xi)\n",
        "\n",
        "f = difdiv(xi,yi)\n",
        "\n",
        "xp = np.linspace(-2., 2.)\n",
        "yp = []\n",
        "\n",
        "for x in xp:\n",
        "    yp.append(calculaP(f,xi,x))\n",
        "\n",
        "print(\"P(1.78) Newton =\", calculaP(f,xi,1.78))\n",
        "print('P(1.78) Real =',func(1.78))\n",
        "\n",
        "plt.plot(xi, yi, \"ro\", \n",
        "         xp, yp, \"--\",\n",
        "         xp, func(xp),\"-\",\n",
        "         color='black')\n",
        "plt.legend(['pontos dados', 'Fórmula de Newton', 'Valor real'])\n",
        "plt.grid()\n",
        "plt.show()"
      ],
      "metadata": {
        "colab": {
          "base_uri": "https://localhost:8080/",
          "height": 300
        },
        "id": "s8kltx_mNelV",
        "outputId": "f2d978e5-7796-448c-a0c0-32e7d1c90308"
      },
      "execution_count": 27,
      "outputs": [
        {
          "output_type": "stream",
          "name": "stdout",
          "text": [
            "P(1.78) Newton = -1.1070765436161314\n",
            "P(1.78) Real = 0.10090530605993887\n"
          ]
        },
        {
          "output_type": "display_data",
          "data": {
            "text/plain": [
              "<Figure size 432x288 with 1 Axes>"
            ],
            "image/png": "[encoded data removed]"
          },
          "metadata": {
            "needs_background": "light"
          }
        }
      ]
    },
    {
      "cell_type": "markdown",
      "source": [
        "Podemos obeservar que com o aumento do grau do polinomio interpolador os valores se tornaram imprecisos. O que pode evidenciado através dos valores do gráfico e também do valor da imagem para x = 1.78 que apresentam valores totalmente diferentes."
      ],
      "metadata": {
        "id": "P2oNX7__Oy-n"
      }
    },
    {
      "cell_type": "markdown",
      "source": [
        "O fenômeno de Runge é um problema de oscilação nas bordas de um intervalo, que ocorre quando se usa interpolação polinomial com polinómios de ordem elevada."
      ],
      "metadata": {
        "id": "nTL8SVyzQorB"
      }
    },
    {
      "cell_type": "code",
      "source": [],
      "metadata": {
        "id": "A-AibmPHMyzo"
      },
      "execution_count": 27,
      "outputs": []
    },
    {
      "cell_type": "markdown",
      "metadata": {
        "id": "tPTig87zewUk"
      },
      "source": [
        "**4.** Após serem efetuadas medições num gerador de corrente contínua, foram obtidos os seguintes\n",
        "valores indicados por um voltímetro e um amperímetro.\n",
        "\n",
        "$$\n",
        "\\begin{array}{ccccccccccccc}\n",
        "    \\hline\n",
        "I(A) &1.58& 1.75& 2.10& 2.20& 2.50& 3.50& 3.75& 4.25& 4.50& 4.90& 3.12    \\\\ \\hline\n",
        "V(v) &210& 165& 154& 120& 85& 50& 73& 76& 110& 128& 60\t\t  \\\\\n",
        "\\hline\n",
        "\\end{array}\n",
        "$$\n",
        "\n",
        "Faça um gráfico dos dados.\n",
        "\n",
        "(a) Ajuste um polinômio de grau adequado aos dados por mínimos quadrados. \n",
        "\n",
        "(b) Estime o valor a ser obtido no voltímetro quando o amperímetro estiver marcando $4.0A$.\n",
        "\n",
        "(c) Plote o polinômio e os pontos."
      ]
    },
    {
      "cell_type": "code",
      "source": [
        "X = np.array([1.58, 1.75, 2.10, 2.20, 2.50, 3.50, 2.75, 4.25, 4.25, 4.50, 4.90, 3.12])\n",
        "Y = np.array([210, 165, 154, 120, 85, 50, 73, 76, 76, 110, 128, 60]) \n",
        "\n",
        "plt.plot(X, Y, \"o\")\n",
        "plt.grid()\n",
        "plt.show()"
      ],
      "metadata": {
        "colab": {
          "base_uri": "https://localhost:8080/",
          "height": 265
        },
        "id": "8WK8E1i_JXDb",
        "outputId": "e84fe39f-5ccb-46cf-abbc-b9eb16d4a48f"
      },
      "execution_count": 28,
      "outputs": [
        {
          "output_type": "display_data",
          "data": {
            "text/plain": [
              "<Figure size 432x288 with 1 Axes>"
            ],
            "image/png": "[encoded data removed]"
          },
          "metadata": {
            "needs_background": "light"
          }
        }
      ]
    },
    {
      "cell_type": "code",
      "source": [
        "V = np.array([X**2, X**1, X**0]).T\n",
        "A  = np.dot(V.T, V)\n",
        "A"
      ],
      "metadata": {
        "colab": {
          "base_uri": "https://localhost:8080/"
        },
        "id": "AtMBqVnlJW9l",
        "outputId": "ef79a712-e0f6-4f9f-cef5-ad44c913d97b"
      },
      "execution_count": 29,
      "outputs": [
        {
          "output_type": "execute_result",
          "data": {
            "text/plain": [
              "array([[2038.60998132,  501.18614   ,  130.9908    ],\n",
              "       [ 501.18614   ,  130.9908    ,   37.4       ],\n",
              "       [ 130.9908    ,   37.4       ,   12.        ]])"
            ]
          },
          "metadata": {},
          "execution_count": 29
        }
      ]
    },
    {
      "cell_type": "code",
      "source": [
        "B =np.dot(V.T, Y)\n",
        "B"
      ],
      "metadata": {
        "colab": {
          "base_uri": "https://localhost:8080/"
        },
        "id": "XCb22x_oPbSO",
        "outputId": "4f41aa69-c7ea-4f71-b318-fb1bb4f47af8"
      },
      "execution_count": 30,
      "outputs": [
        {
          "output_type": "execute_result",
          "data": {
            "text/plain": [
              "array([12615.653,  3751.6  ,  1307.   ])"
            ]
          },
          "metadata": {},
          "execution_count": 30
        }
      ]
    },
    {
      "cell_type": "code",
      "source": [
        "a = np.linalg.solve(A,B)\n",
        "a"
      ],
      "metadata": {
        "colab": {
          "base_uri": "https://localhost:8080/"
        },
        "id": "MJAsMut9Pm-F",
        "outputId": "dbba3104-1437-4486-d21b-b8014f16ba20"
      },
      "execution_count": 31,
      "outputs": [
        {
          "output_type": "execute_result",
          "data": {
            "text/plain": [
              "array([  41.65417181, -290.61700608,  559.9802282 ])"
            ]
          },
          "metadata": {},
          "execution_count": 31
        }
      ]
    },
    {
      "cell_type": "code",
      "source": [
        "Xr = np.arange(1.2,6,0.2)\n",
        "def g(x):\n",
        "    return a[0]*x**2 + a[1]*x + a[2]\n",
        "\n",
        "plt.plot(X, Y, \".\", Xr, g(Xr),'-')\n",
        "plt.grid()\n",
        "plt.show()"
      ],
      "metadata": {
        "colab": {
          "base_uri": "https://localhost:8080/",
          "height": 265
        },
        "id": "VNxUtW9BJW4b",
        "outputId": "32c060be-f806-4620-8111-f76bdcd8f3da"
      },
      "execution_count": 32,
      "outputs": [
        {
          "output_type": "display_data",
          "data": {
            "text/plain": [
              "<Figure size 432x288 with 1 Axes>"
            ],
            "image/png": "[encoded data removed]"
          },
          "metadata": {
            "needs_background": "light"
          }
        }
      ]
    },
    {
      "cell_type": "code",
      "source": [
        "#quando o amperímetro estiver marcando 4\n",
        "valor = g(4)\n",
        "valor"
      ],
      "metadata": {
        "colab": {
          "base_uri": "https://localhost:8080/"
        },
        "id": "7fUxkiULP4f7",
        "outputId": "9988f393-20cb-4406-afe4-0384a8cc3546"
      },
      "execution_count": 33,
      "outputs": [
        {
          "output_type": "execute_result",
          "data": {
            "text/plain": [
              "63.978952871732304"
            ]
          },
          "metadata": {},
          "execution_count": 33
        }
      ]
    },
    {
      "cell_type": "code",
      "source": [
        "fig, ax = plt.subplots()\n",
        "ax.plot(X, Y, \".\", Xr, g(Xr),'-')\n",
        "ax.plot(4, valor, 'o')\n",
        "ax.legend(['pontos','Aproximação','Ponto = 4'])\n",
        "plt.grid()\n",
        "plt.show();"
      ],
      "metadata": {
        "colab": {
          "base_uri": "https://localhost:8080/",
          "height": 265
        },
        "id": "rNiNKBJOQCLj",
        "outputId": "b5ba7487-a8b4-4ca5-a981-83cc00fdf1ec"
      },
      "execution_count": 34,
      "outputs": [
        {
          "output_type": "display_data",
          "data": {
            "text/plain": [
              "<Figure size 432x288 with 1 Axes>"
            ],
            "image/png": "[encoded data removed]"
          },
          "metadata": {
            "needs_background": "light"
          }
        }
      ]
    },
    {
      "cell_type": "markdown",
      "metadata": {
        "id": "paF9e4NpewUm"
      },
      "source": [
        "**5.** Dados a seguinte tabela use mínimos quadrados para\n",
        "\n",
        "$$\n",
        "\\begin{array}{cccccccccc}\n",
        "\\hline\n",
        "x_i    &0.01  &0.99  &2.02  &3.01  &3.97  &5.01  &5.93  &6.99  &8.08  \\\\\n",
        "\\hline\n",
        "f(x_i) &0.000 &1.621  &1.782  &0.915 &-0.122 &-0.225 &1.099 &2.728 &3.534\\\\\n",
        "\\hline\n",
        "\\end{array}\n",
        "$$\n",
        "\n",
        "(a) Encontrar o polinômio de 3 que melhor se ajusta aos pontos dados.\n",
        "\n",
        "(b) Agora encontre a função do tipo $g(x)=a_1x + a_2 sen(x)$ que melhor se ajusta. \n",
        "\n",
        "(c) Plote os gráficos e decida qual das duas funções acima é a melhor escola para estimar $f(11.5)$. Jusfifique sua resposta.\n"
      ]
    },
    {
      "cell_type": "code",
      "execution_count": 35,
      "metadata": {
        "id": "lFbfT3nVewUm",
        "colab": {
          "base_uri": "https://localhost:8080/",
          "height": 282
        },
        "outputId": "187a95fe-9dde-4d0a-e6f0-949c296e6f1f"
      },
      "outputs": [
        {
          "output_type": "execute_result",
          "data": {
            "text/plain": [
              "[<matplotlib.lines.Line2D at 0x7f9abd3bc100>]"
            ]
          },
          "metadata": {},
          "execution_count": 35
        },
        {
          "output_type": "display_data",
          "data": {
            "text/plain": [
              "<Figure size 432x288 with 1 Axes>"
            ],
            "image/png": "[encoded data removed]"
          },
          "metadata": {
            "needs_background": "light"
          }
        }
      ],
      "source": [
        "xi = np.array([0.01,0.99, 2.02, 3.01, 3.97, 5.01,5.93, 6.99, 8.08])\n",
        "yi = np.array([0.000,1.621, 1.782, 0.915, -0.122, -0.225, 1.099, 2.728, 3.532])\n",
        "plt.plot(xi, yi, 'o')"
      ]
    },
    {
      "cell_type": "code",
      "source": [
        "U = np.array([xi**3, xi**2, xi**1, xi**0]).T\n",
        "C = np.dot(U.T, U)\n",
        "D = np.dot(U.T, yi)\n",
        "d = np.linalg.solve(C,D)\n",
        "Xr = np.arange(-0.5,8.5,0.01)\n",
        "\n",
        "\n",
        "def h(x):\n",
        "    return d[0]*x**3 + d[1]*x**2 + d[2]*x + d[3]\n",
        "\n",
        "plt.plot(xi, yi, \".\", Xr, h(Xr),'-')\n",
        "plt.grid()\n",
        "plt.show()"
      ],
      "metadata": {
        "colab": {
          "base_uri": "https://localhost:8080/",
          "height": 265
        },
        "id": "lM8WqARrTH5M",
        "outputId": "545075fd-d3b4-4f59-b916-a139d56eae45"
      },
      "execution_count": 36,
      "outputs": [
        {
          "output_type": "display_data",
          "data": {
            "text/plain": [
              "<Figure size 432x288 with 1 Axes>"
            ],
            "image/png": "[encoded data removed]"
          },
          "metadata": {
            "needs_background": "light"
          }
        }
      ]
    },
    {
      "cell_type": "code",
      "source": [
        "#Função de grau 3\n",
        "print(f'f(x) = {d[0]}*x**3 + {d[1]}*x**2 + {d[2]}*x + {d[3]}')"
      ],
      "metadata": {
        "colab": {
          "base_uri": "https://localhost:8080/"
        },
        "id": "aKEznN10UDpt",
        "outputId": "ef359b10-8008-49e8-e128-7013f4e24cb5"
      },
      "execution_count": 38,
      "outputs": [
        {
          "output_type": "stream",
          "name": "stdout",
          "text": [
            "f(x) = 0.04673682792824189*x**3 + -0.46468460448876925*x**2 + 1.1584868280454674*x + 0.4084044475875761\n"
          ]
        }
      ]
    },
    {
      "cell_type": "code",
      "source": [
        "g1 = lambda x: x\n",
        "g2 = lambda x: np.sin(x)\n",
        "\n",
        "a11 = np.sum(np.multiply(g1(xi),g1(xi)))\n",
        "a12 = np.sum(np.multiply(g1(xi),g2(xi)))\n",
        "a21 = a12\n",
        "a22 = np.sum(np.multiply(g2(xi),g2(xi)))\n",
        "\n",
        "\n",
        "A = np.array([[a11, a12],[a21, a22]])\n",
        "\n",
        "b1 = np.sum(np.multiply(yi,g1(xi)))\n",
        "b2 = np.sum(np.multiply(yi,g2(xi)))\n",
        "B = np.array([b1,b2])\n",
        "\n",
        "a = solve(A, B)\n",
        "\n",
        "g = lambda x: a[0]*g1(x)+a[1]*g2(x)\n",
        "\n",
        "Xs = np.arange(xi[0]-0.5, xi[-1]+0.5, 0.1)\n",
        "Ys = g(Xs)  \n",
        "\n",
        "plt.plot(xi, yi, \"r.\", Xs, Ys, \"-\")\n",
        "plt.show()"
      ],
      "metadata": {
        "colab": {
          "base_uri": "https://localhost:8080/",
          "height": 265
        },
        "id": "Pfet4UqIW2ZK",
        "outputId": "f5fc0204-bb55-4f07-ca63-3f38ec6e30bc"
      },
      "execution_count": 39,
      "outputs": [
        {
          "output_type": "display_data",
          "data": {
            "text/plain": [
              "<Figure size 432x288 with 1 Axes>"
            ],
            "image/png": "[encoded data removed]"
          },
          "metadata": {
            "needs_background": "light"
          }
        }
      ]
    },
    {
      "cell_type": "code",
      "source": [
        "plt.plot(xi, yi, \".\",color='black')\n",
        "plt.plot(Xr, h(Xr),'-', color='yellow')\n",
        "plt.plot(Xs,Ys,color='blue')\n",
        "\n",
        "plt.grid()\n",
        "plt.show()"
      ],
      "metadata": {
        "colab": {
          "base_uri": "https://localhost:8080/",
          "height": 265
        },
        "id": "NetQCX99717d",
        "outputId": "de1b219d-71f5-42bf-b496-1b6b0d895ddb"
      },
      "execution_count": 40,
      "outputs": [
        {
          "output_type": "display_data",
          "data": {
            "text/plain": [
              "<Figure size 432x288 with 1 Axes>"
            ],
            "image/png": "[encoded data removed]"
          },
          "metadata": {
            "needs_background": "light"
          }
        }
      ]
    },
    {
      "cell_type": "code",
      "source": [
        "g(11.5)"
      ],
      "metadata": {
        "colab": {
          "base_uri": "https://localhost:8080/"
        },
        "id": "zVBC-Js86Jcm",
        "outputId": "b6830116-716d-4b0a-b634-a5c0f3ab2182"
      },
      "execution_count": 41,
      "outputs": [
        {
          "output_type": "execute_result",
          "data": {
            "text/plain": [
              "1.5941010865774565"
            ]
          },
          "metadata": {},
          "execution_count": 41
        }
      ]
    },
    {
      "cell_type": "code",
      "source": [
        "h(11.5)"
      ],
      "metadata": {
        "colab": {
          "base_uri": "https://localhost:8080/"
        },
        "id": "xGRPaYUc6OzU",
        "outputId": "0a7d424a-f08e-421f-df1d-63197980ef99"
      },
      "execution_count": 42,
      "outputs": [
        {
          "output_type": "execute_result",
          "data": {
            "text/plain": [
              "23.357337201835602"
            ]
          },
          "metadata": {},
          "execution_count": 42
        }
      ]
    },
    {
      "cell_type": "markdown",
      "source": [
        "Acredito que a função g(x)=ax+bsen(x) é a melhor escolha para estimar a imagem do ponto 11.5 devido a uma melhor precisão no pontos dados pela questão."
      ],
      "metadata": {
        "id": "QZRmPuiEN0xg"
      }
    },
    {
      "cell_type": "code",
      "source": [],
      "metadata": {
        "id": "GjE1t-7kNzHF"
      },
      "execution_count": null,
      "outputs": []
    },
    {
      "cell_type": "code",
      "source": [],
      "metadata": {
        "id": "p84UE3j32ExI"
      },
      "execution_count": null,
      "outputs": []
    }
  ],
  "metadata": {
    "colab": {
      "provenance": [],
      "include_colab_link": true
    },
    "kernelspec": {
      "display_name": "Python 3",
      "language": "python",
      "name": "python3"
    },
    "language_info": {
      "codemirror_mode": {
        "name": "ipython",
        "version": 3
      },
      "file_extension": ".py",
      "mimetype": "text/x-python",
      "name": "python",
      "nbconvert_exporter": "python",
      "pygments_lexer": "ipython3",
      "version": "3.8.5"
    }
  },
  "nbformat": 4,
  "nbformat_minor": 0
}