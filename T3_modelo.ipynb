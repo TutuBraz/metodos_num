{
  "cells": [
    {
      "cell_type": "markdown",
      "metadata": {
        "id": "view-in-github",
        "colab_type": "text"
      },
      "source": [
        "<a href=\"https://colab.research.google.com/github/TutuBraz/metodos_num/blob/main/T3_modelo.ipynb\" target=\"_parent\"><img src=\"https://colab.research.google.com/assets/colab-badge.svg\" alt=\"Open In Colab\"/></a>"
      ]
    },
    {
      "cell_type": "markdown",
      "metadata": {
        "id": "2Ml99eVzCWk7"
      },
      "source": [
        "# Trabalho T3 - Aproximação de Funções: \n",
        "## Interpolação e ajuste por mínimos quadrados \n",
        "\n",
        "### Métodos Numéricos Computacionais - 2º Semestre de 2022\n",
        "\n",
        "**Curso:**Estatística\n",
        "\n",
        "**Turma:**\n",
        "\n",
        "**Nome(s):**Arthur Braz Santos"
      ]
    },
    {
      "cell_type": "code",
      "source": [
        "import numpy as np\n",
        "import matplotlib.pyplot as plt\n",
        "from scipy.linalg import solve"
      ],
      "metadata": {
        "id": "gfcmKZoHfiNW"
      },
      "execution_count": null,
      "outputs": []
    },
    {
      "cell_type": "markdown",
      "metadata": {
        "id": "34Alw_WNewUf"
      },
      "source": [
        "**1.** Dada a tabela a seguir, de valores de uma função $f$,\n",
        "\n",
        "$$\n",
        "\t\t\\begin{array}{cccccccccc}\n",
        "\t\t\t\\hline\n",
        "\t\t\tx   &0.15&  0.17&  0.19&  0.21&  0.23&  0.25&  0.27\\\\ \\hline\n",
        "\t\t\tf(x) &0.1761& 0.2304& 0.2788& 0.3222& 0.3617& 0.3979& 0.4314  \\\\ \\hline\n",
        "\t\t\\end{array}\n",
        "$$\n",
        "\n",
        "(a) Encontre o polinômio interpolador para os pontos tabelados.\n",
        "\n",
        "(b) Utilize todos os pontos para estimar $f(0,22)$ por interpolação com a fórmula de lagrange.\n",
        "\n",
        "(c) Plote o gráfico do polinômio obtido juntamente com os pontos tabelados e o ponto calculado na letra (b) para visualizar o resultado da interpolação.\n",
        "\n",
        "(d) Escolha 4 pontos e estime $f(0,22)$ utilizando um polinomio de terceiro grau. Plote o gráfico e compare com o resultado do item anterior. Comente.\n"
      ]
    },
    {
      "cell_type": "code",
      "source": [
        "x = np.array([.15, .17, .19, .21, .23, .25, .27])\n",
        "y = np.array([.1761, .2304, .2788,.32220,.36170,39790, .4314])"
      ],
      "metadata": {
        "id": "TLlAjGiOffsY"
      },
      "execution_count": null,
      "outputs": []
    },
    {
      "cell_type": "code",
      "source": [
        "xi = np.array([0,1,2,3])\n",
        "yi = np.array([1,6,5,-8])\n",
        "\n",
        "x = np.linspace(-1,4)\n",
        "y = 1+6*x-x**3\n",
        "\n",
        "plt.plot(xi,yi,'o',x,y,color='black')\n",
        "plt.grid()"
      ],
      "metadata": {
        "id": "7OKZeCndffmQ"
      },
      "execution_count": null,
      "outputs": []
    },
    {
      "cell_type": "code",
      "source": [],
      "metadata": {
        "id": "eFIjAT4SffiZ"
      },
      "execution_count": null,
      "outputs": []
    },
    {
      "cell_type": "markdown",
      "metadata": {
        "id": "-awgrUVTAZmv"
      },
      "source": [
        "**2.** \n",
        "O volume específico de um vapor superaquecido está listado nas tabelas de vapor para diversas temperaturas. por exemplo, na pressão absoluta de 3000 lb/pol$^2$:\n",
        "\n",
        "$$\n",
        "\t\\begin{array}{cccccc}\n",
        "\t\t\t\\hline\n",
        "\t\t\tT, ^\\circ F &700 &720 &740 &760 &780 \\\\ \\hline\n",
        "\t\t\tv, pés^3/lb_m &0,0977 &0,12184 &0,14060 &0,15509 &0,16643  \\\\\n",
        "\t\t\t\\hline\n",
        "\t\t\\end{array}\n",
        "$$\t\n",
        "\n",
        "Use interpolação para obter uma tabela que forneça $v$ a cada 5$^\\circ$ entre as temperaturas 720$^\\circ$ e 760$^\\circ$ usando a fórmula de Lagrange e a fórmula de Newton. Compare os resultados e comente o que você observou."
      ]
    },
    {
      "cell_type": "markdown",
      "metadata": {
        "id": "_DURXCZhECOD"
      },
      "source": [
        "**3.** Considere a função \n",
        "$$f(x)=\\frac{3.21}{0.73 + 9.81x^2}$$\n",
        "\n",
        "(a) Aproxime o valor de $f(1.78)$ usando um polinômio interpolador de grau 3 no intervalo [1, 2] e compare com o valor da função. Mostre o gráfico do polinômio e da função nesse intervalo. \n",
        "\n",
        "(b) Repita o item anterior, mas dessa vez utilize um polinômio de grau 10 no intervalo [-2,2] e comente o que você observou. \n",
        "\t\n",
        "(c) Pesquise e responda o que é \"Fenômeno de Runge\".\n"
      ]
    },
    {
      "cell_type": "code",
      "execution_count": null,
      "metadata": {
        "id": "hTN0I39vewUj"
      },
      "outputs": [],
      "source": []
    },
    {
      "cell_type": "markdown",
      "metadata": {
        "id": "tPTig87zewUk"
      },
      "source": [
        "**4.** Após serem efetuadas medições num gerador de corrente contínua, foram obtidos os seguintes\n",
        "valores indicados por um voltímetro e um amperímetro.\n",
        "\n",
        "$$\n",
        "\\begin{array}{ccccccccccccc}\n",
        "    \\hline\n",
        "I(A) &1.58& 1.75& 2.10& 2.20& 2.50& 3.50& 3.75& 4.25& 4.50& 4.90& 3.12    \\\\ \\hline\n",
        "V(v) &210& 165& 154& 120& 85& 50& 73& 76& 110& 128& 60\t\t  \\\\\n",
        "\\hline\n",
        "\\end{array}\n",
        "$$\n",
        "\n",
        "Faça um gráfico dos dados.\n",
        "\n",
        "(a) Ajuste um polinômio de grau adequado aos dados por mínimos quadrados. \n",
        "\n",
        "(b) Estime o valor a ser obtido no voltímetro quando o amperímetro estiver marcando $4.0A$.\n",
        "\n",
        "(c) Plote o polinômio e os pontos."
      ]
    },
    {
      "cell_type": "code",
      "source": [
        "X = np.array([1.58, 1.75, 2.10, 2.20, 2.50, 3.50, 2.75, 4.25, 4.25, 4.50, 4.90, 3.12])\n",
        "Y = np.array([210, 165, 154, 120, 85, 50, 73, 76, 76, 110, 128, 60]) \n",
        "\n",
        "plt.plot(X, Y, \"o\")\n",
        "plt.grid()\n",
        "plt.show()"
      ],
      "metadata": {
        "colab": {
          "base_uri": "https://localhost:8080/",
          "height": 265
        },
        "id": "8WK8E1i_JXDb",
        "outputId": "a834ce82-09a9-432b-eb1e-a514bf0eaafe"
      },
      "execution_count": null,
      "outputs": [
        {
          "output_type": "display_data",
          "data": {
            "text/plain": [
              "<Figure size 432x288 with 1 Axes>"
            ],
            "image/png": "[encoded data removed]"
          },
          "metadata": {
            "needs_background": "light"
          }
        }
      ]
    },
    {
      "cell_type": "code",
      "source": [
        "V = np.array([X**2, X**1, X**0]).T\n",
        "A  = np.dot(V.T, V)\n",
        "A\n"
      ],
      "metadata": {
        "colab": {
          "base_uri": "https://localhost:8080/"
        },
        "id": "AtMBqVnlJW9l",
        "outputId": "52ee173a-0d99-423e-e883-2a1d33eb53fc"
      },
      "execution_count": null,
      "outputs": [
        {
          "output_type": "execute_result",
          "data": {
            "text/plain": [
              "array([[2038.60998132,  501.18614   ,  130.9908    ],\n",
              "       [ 501.18614   ,  130.9908    ,   37.4       ],\n",
              "       [ 130.9908    ,   37.4       ,   12.        ]])"
            ]
          },
          "metadata": {},
          "execution_count": 15
        }
      ]
    },
    {
      "cell_type": "code",
      "source": [
        "B =np.dot(V.T, Y)\n",
        "B"
      ],
      "metadata": {
        "colab": {
          "base_uri": "https://localhost:8080/"
        },
        "id": "XCb22x_oPbSO",
        "outputId": "6dec8877-8f81-475c-f2b5-be8d3b8bfa04"
      },
      "execution_count": null,
      "outputs": [
        {
          "output_type": "execute_result",
          "data": {
            "text/plain": [
              "array([12615.653,  3751.6  ,  1307.   ])"
            ]
          },
          "metadata": {},
          "execution_count": 17
        }
      ]
    },
    {
      "cell_type": "code",
      "source": [
        "a = np.linalg.solve(A,B)\n",
        "a"
      ],
      "metadata": {
        "colab": {
          "base_uri": "https://localhost:8080/"
        },
        "id": "MJAsMut9Pm-F",
        "outputId": "ce33613e-d91e-4fee-9e3f-f91f26dfb984"
      },
      "execution_count": null,
      "outputs": [
        {
          "output_type": "execute_result",
          "data": {
            "text/plain": [
              "array([  41.65417181, -290.61700608,  559.9802282 ])"
            ]
          },
          "metadata": {},
          "execution_count": 18
        }
      ]
    },
    {
      "cell_type": "code",
      "source": [
        "Xr = np.arange(1.2,6,0.2)\n",
        "def g(x):\n",
        "    return a[0]*x**2 + a[1]*x + a[2]\n",
        "\n",
        "plt.plot(X, Y, \".\", Xr, g(Xr),'-')\n",
        "plt.grid()\n",
        "plt.show()"
      ],
      "metadata": {
        "colab": {
          "base_uri": "https://localhost:8080/",
          "height": 265
        },
        "id": "VNxUtW9BJW4b",
        "outputId": "ab525398-79ba-4863-affe-76ffb174781b"
      },
      "execution_count": null,
      "outputs": [
        {
          "output_type": "display_data",
          "data": {
            "text/plain": [
              "<Figure size 432x288 with 1 Axes>"
            ],
            "image/png": "[encoded data removed]"
          },
          "metadata": {
            "needs_background": "light"
          }
        }
      ]
    },
    {
      "cell_type": "code",
      "source": [
        "#quando o amperímetro estiver marcando\n",
        "valor = g(4)\n",
        "valor"
      ],
      "metadata": {
        "colab": {
          "base_uri": "https://localhost:8080/"
        },
        "id": "7fUxkiULP4f7",
        "outputId": "ea6c3e69-3b6b-4dc0-c89d-13852ade271a"
      },
      "execution_count": null,
      "outputs": [
        {
          "output_type": "execute_result",
          "data": {
            "text/plain": [
              "63.978952871732304"
            ]
          },
          "metadata": {},
          "execution_count": 31
        }
      ]
    },
    {
      "cell_type": "code",
      "source": [
        "fig, ax = plt.subplots()\n",
        "ax.plot(X, Y, \".\", Xr, g(Xr),'-')\n",
        "ax.plot(4, valor, 'o')\n",
        "plt.grid()\n",
        "plt.show()"
      ],
      "metadata": {
        "colab": {
          "base_uri": "https://localhost:8080/",
          "height": 282
        },
        "id": "rNiNKBJOQCLj",
        "outputId": "d293297b-d335-48fd-a91c-bd41654eb933"
      },
      "execution_count": null,
      "outputs": [
        {
          "output_type": "stream",
          "name": "stderr",
          "text": [
            "WARNING:matplotlib.legend:No handles with labels found to put in legend.\n"
          ]
        },
        {
          "output_type": "display_data",
          "data": {
            "text/plain": [
              "<Figure size 432x288 with 1 Axes>"
            ],
            "image/png": "[encoded data removed]"
          },
          "metadata": {
            "needs_background": "light"
          }
        }
      ]
    },
    {
      "cell_type": "markdown",
      "metadata": {
        "id": "8wEoOzDnEDQ9"
      },
      "source": [
        "\n"
      ]
    },
    {
      "cell_type": "markdown",
      "metadata": {
        "id": "paF9e4NpewUm"
      },
      "source": [
        "**5.** Dados a seguinte tabela use mínimos quadrados para\n",
        "\n",
        "$$\n",
        "\\begin{array}{cccccccccc}\n",
        "\\hline\n",
        "x_i    &0.01  &0.99  &2.02  &3.01  &3.97  &5.01  &5.93  &6.99  &8.08  \\\\\n",
        "\\hline\n",
        "f(x_i) &0.000 &1.621  &1.782  &0.915 &-0.122 &-0.225 &1.099 &2.728 &3.534\\\\\n",
        "\\hline\n",
        "\\end{array}\n",
        "$$\n",
        "\n",
        "(a) Encontrar o polinômio de 3 que melhor se ajusta aos pontos dados.\n",
        "\n",
        "(b) Agora encontre a função do tipo $g(x)=a_1x + a_2 sen(x)$ que melhor se ajusta. \n",
        "\n",
        "(c) Plote os gráficos e decida qual das duas funções acima é a melhor escola para estimar $f(11.5)$. Jusfifique sua resposta.\n"
      ]
    },
    {
      "cell_type": "code",
      "execution_count": null,
      "metadata": {
        "id": "lFbfT3nVewUm"
      },
      "outputs": [],
      "source": []
    }
  ],
  "metadata": {
    "colab": {
      "provenance": [],
      "include_colab_link": true
    },
    "kernelspec": {
      "display_name": "Python 3",
      "language": "python",
      "name": "python3"
    },
    "language_info": {
      "codemirror_mode": {
        "name": "ipython",
        "version": 3
      },
      "file_extension": ".py",
      "mimetype": "text/x-python",
      "name": "python",
      "nbconvert_exporter": "python",
      "pygments_lexer": "ipython3",
      "version": "3.8.5"
    }
  },
  "nbformat": 4,
  "nbformat_minor": 0
}