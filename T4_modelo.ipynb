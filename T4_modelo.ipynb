{
  "cells": [
    {
      "cell_type": "markdown",
      "metadata": {
        "id": "view-in-github",
        "colab_type": "text"
      },
      "source": [
        "<a href=\"https://colab.research.google.com/github/TutuBraz/metodos_num/blob/main/T4_modelo.ipynb\" target=\"_parent\"><img src=\"https://colab.research.google.com/assets/colab-badge.svg\" alt=\"Open In Colab\"/></a>"
      ]
    },
    {
      "cell_type": "markdown",
      "metadata": {
        "id": "u-9bYn0QLlmC"
      },
      "source": [
        "## Trabalho T4 - Integração Numérica e EDOs\n",
        "\n",
        "### Métodos numéricos computacionais\n",
        "\n",
        "#### 2º Semestre de 2022\n",
        "\n",
        "**Prof. Tiago Buriol**"
      ]
    },
    {
      "cell_type": "markdown",
      "metadata": {
        "id": "Vs1gICM2LlmG"
      },
      "source": [
        "**Nomes dos integrantes do grupo:** Arthur Braz Santos"
      ]
    },
    {
      "cell_type": "code",
      "source": [
        "import numpy as np\n",
        "import matplotlib.pyplot as plt\n",
        "from math import e\n",
        "from scipy.integrate import quad\n"
      ],
      "metadata": {
        "id": "BoLQnvfVa5Cd"
      },
      "execution_count": 139,
      "outputs": []
    },
    {
      "cell_type": "markdown",
      "metadata": {
        "id": "J4naImd0LlmG"
      },
      "source": [
        "### Questão 1 \n",
        "Os seguintes dados foram obtidos a partir de uma distribuição normal:\n",
        "\n",
        "\n",
        "x   | -2,0  | -1,5  | -1,0  | -0,5  |  0,0  |  0,5  |  1,0  |  1,5  |  2,0  | \n",
        "----|-------|-------|-------|-------|-------|-------|-------|-------|-------|\n",
        "f(x)|0,05399|0,12952|0,24197|0,35207|0,39894|0,35207|0,24197|0,12952|0,05399| \n",
        "\n",
        "\n",
        "Use a regra dos trapézios e a regra 1/3 de simpson para integrar esses dados."
      ]
    },
    {
      "cell_type": "code",
      "source": [
        "#Regra dos trapezios\n",
        "x0 = -2.0\n",
        "xn = 2.0\n",
        "n = 8\n",
        "h = (xn-x0)/n\n",
        "x = np.linspace(x0,xn,n+1)\n",
        "y = [0.05399,\t0.12952,\t0.24197,\t0.35207,\t0.39894,\t0.35207,\t0.24197,\t0.12952,\t0.05399]\n",
        "\n",
        "print(x)\n",
        "print(y)\n",
        "\n",
        "regra_gen = (h/2)*(y[0]+2*np.sum(y[1:n])+y[n])\n",
        "print(regra_gen)"
      ],
      "metadata": {
        "colab": {
          "base_uri": "https://localhost:8080/"
        },
        "id": "g-TxsOcMaKYP",
        "outputId": "69e884f8-8f82-4c46-857e-423238bea931"
      },
      "execution_count": null,
      "outputs": [
        {
          "output_type": "stream",
          "name": "stdout",
          "text": [
            "[-2.  -1.5 -1.  -0.5  0.   0.5  1.   1.5  2. ]\n",
            "[0.05399, 0.12952, 0.24197, 0.35207, 0.39894, 0.35207, 0.24197, 0.12952, 0.05399]\n",
            "0.9500250000000001\n"
          ]
        }
      ]
    },
    {
      "cell_type": "code",
      "source": [
        "#Regra 1/3 de Simpson\n",
        "I = (h/3)*(y[0] + 4*np.sum(y[1:n:2]) + 2*np.sum(y[2:n:2]) +y[n])\n",
        "print(I)"
      ],
      "metadata": {
        "colab": {
          "base_uri": "https://localhost:8080/"
        },
        "id": "Ad-HEsOXaKQn",
        "outputId": "94b2f431-735a-4393-9b0b-68ea1cec7441"
      },
      "execution_count": null,
      "outputs": [
        {
          "output_type": "stream",
          "name": "stdout",
          "text": [
            "0.9544099999999999\n"
          ]
        }
      ]
    },
    {
      "cell_type": "markdown",
      "metadata": {
        "id": "9svpeu1wLlmH"
      },
      "source": [
        "### Questão 2\n",
        "\n",
        "\n",
        "A função densidade de probabilidade da distribuição normal é $f(t)=(1/ \\sqrt{2\\pi})e^{-t^2/2}$ e a distribuição cumulativa é a função definida pela integral $\\Phi(x)=\\frac{1}{2}+\\frac{1}{\\sqrt{2\\pi}} \\int_0^x e^{-t^2/2} dt$. Calcule valores para $\\Phi(0,5)$, $\\Phi(1,0)$, $\\Phi(1,5)$, $\\Phi(2,0)$, $\\Phi(2,5)$ e $\\Phi(3,0)$ que tenham cinco casas decimais de precisão. Plote o gráfico da função $\\Phi(x)$ para os valores calculados.\n"
      ]
    },
    {
      "cell_type": "code",
      "source": [
        "#Valores\n",
        "x = np.linspace(0.5,3,6)\n",
        "\n",
        "#Integral\n",
        "phi =lambda x: (1/2)+(1/np.sqrt(2*np.pi)) * quad(lambda x: e**((-x**2)/2),0,x)[0]\n",
        "\n",
        "#valores\n",
        "valores = list((map(phi,x)))\n",
        "valores = [round(x,5) for x in valores ]\n",
        "print(f'valores de phi = {valores}')\n",
        "\n",
        "#plot\n",
        "plt.plot(x,valores)\n",
        "plt.grid()\n",
        "plt.show()"
      ],
      "metadata": {
        "id": "0LNTSKLbaTiB",
        "colab": {
          "base_uri": "https://localhost:8080/",
          "height": 282
        },
        "outputId": "1ca3d185-5a12-4b10-aabc-a4598da85f76"
      },
      "execution_count": null,
      "outputs": [
        {
          "output_type": "stream",
          "name": "stdout",
          "text": [
            "valores de phi = [0.69146, 0.84134, 0.93319, 0.97725, 0.99379, 0.99865]\n"
          ]
        },
        {
          "output_type": "display_data",
          "data": {
            "text/plain": [
              "<Figure size 432x288 with 1 Axes>"
            ],
            "image/png": "[encoded data removed]"
          },
          "metadata": {
            "needs_background": "light"
          }
        }
      ]
    },
    {
      "cell_type": "code",
      "source": [
        "phi(3)"
      ],
      "metadata": {
        "colab": {
          "base_uri": "https://localhost:8080/",
          "height": 37
        },
        "id": "S29gtHLwlTjC",
        "outputId": "1279d601-93e9-416b-8dfe-5741f2eb700a"
      },
      "execution_count": null,
      "outputs": [
        {
          "output_type": "execute_result",
          "data": {
            "text/plain": [
              "0.9986501019683698"
            ],
            "image/png": "[encoded data removed]",
            "text/latex": "$\\displaystyle 0.99865010196837$"
          },
          "metadata": {},
          "execution_count": 135
        }
      ]
    },
    {
      "cell_type": "code",
      "source": [
        "#Integral\n",
        "f = lambda x: (1/2) + ((1/sqrt(2*np.pi)))"
      ],
      "metadata": {
        "id": "Alni5QIODTN9"
      },
      "execution_count": null,
      "outputs": []
    },
    {
      "cell_type": "code",
      "source": [
        "x0 = 1.0\n",
        "xn = 4.0\n",
        "n = 4\n",
        "h = (xn-x0)/n\n",
        "f = lambda x: np.sqrt(x)\n",
        "x = np.linspace(x0, xn, n+1)\n",
        "y = f(x)\n",
        "print(x)\n",
        "print(np.round(y,4))\n",
        "\n",
        "It = (h/2)*(y[0]+2*np.sum(y[1:n])+y[n])\n",
        "print(np.round(It,4))"
      ],
      "metadata": {
        "id": "oYrNdsqnaTbk",
        "colab": {
          "base_uri": "https://localhost:8080/"
        },
        "outputId": "0175d6b7-4aa5-4720-c3ea-713f8368f0b5"
      },
      "execution_count": null,
      "outputs": [
        {
          "output_type": "stream",
          "name": "stdout",
          "text": [
            "[1.   1.75 2.5  3.25 4.  ]\n",
            "[1.     1.3229 1.5811 1.8028 2.    ]\n",
            "4.6551\n"
          ]
        }
      ]
    },
    {
      "cell_type": "markdown",
      "metadata": {
        "id": "VDQJN6wsLlmH"
      },
      "source": [
        "### Questão 3\n",
        "Caso seja possível, obtenha as primitivas das seguintes funções (use os exemplos desenvolvidos em aula com `sympy` ou pesquise outras formas):\n",
        "\n",
        "- $f_1(x)=x^2e^{x^2}$\n",
        "- $f_2(x)=sen(x^2)$\n",
        "- $f_3(x)=\\sqrt{1-x^4}$\n",
        "\n",
        "Então, use integração numérica para calcular as seguintes integrais definidas:\n",
        "\n",
        "- $I_1(x)= \\int_0^1 x^2e^{x^2} dx$\n",
        "- $I_2(x)= \\int_0^2 sen(x^2) dx$\n",
        "- $I_3(x)= \\int_0^1 \\sqrt{1-x^4} dx$\n",
        "\n",
        "Use integração numérica para obter aproximações com pelo menos quatro casas decimais de precisão. Comente o que você observou ao resolver essa questão."
      ]
    },
    {
      "cell_type": "code",
      "source": [],
      "metadata": {
        "id": "OXq5RDmgttVv"
      },
      "execution_count": null,
      "outputs": []
    },
    {
      "cell_type": "markdown",
      "metadata": {
        "id": "eOSnxtLfLlmH"
      },
      "source": [
        "### Questão 4\n",
        "\n",
        "Funções periódicas, podem ser escritas como uma soma infinita de funções trigonoméricas  seno e cosseno conhecida como série de Fourier. A representação em série de Fourier de uma função periódica $f$ é dada por:\n",
        "\n",
        "$$f(x)= \\frac{A_0}{2}+\\sum_{n=1}^{\\infty}A_n\\ cos{(nx)} + B_n\\ sen{(nx)}$$\n",
        "\n",
        "Mostra-se que os valores de $A_n$ e $B_n$ podem ser calculados pelas seguintes fórmulas:\n",
        "\n",
        "$$A_n= \\frac{1}{\\pi} \\int_{-\\pi}^{\\pi} f(x) cos{(nx)}\\ dx$$\n",
        "\n",
        "$$B_n= \\frac{1}{\\pi} \\int_{-\\pi}^{\\pi} f(x) sen{(nx)}\\ dx$$\n",
        "\n",
        "As séries de Fourier são usadas para aproximar algumas funções particularmente desagradáveis, como a função degrau, por exemplo, e formam a base de muitas aplicações de engenharia, como o processamento de sinais.\n",
        "\n",
        "Use integração numérica para obter uma aproximação por série de Fourier da função $f(x)=sen(e^x)$ no intervalo $(-3,3)$ com no mínimo 5 termos da série. Plote o gráfico da função $f$ e da função aproximadora.\n",
        "\n",
        "Como referência para o desenvolvimento dessa questão, a figura abaixo apresenta o resultado esperado para asaproximações usando 2 termos da série e usando 20 termos da série."
      ]
    },
    {
      "cell_type": "markdown",
      "metadata": {
        "id": "L2V0B2fNLlmI"
      },
      "source": [
        "<figure>\n",
        "  <img src=\"fourier.png\" style=\"width:70%\">\n",
        "</figure>\n"
      ]
    },
    {
      "cell_type": "code",
      "execution_count": 140,
      "metadata": {
        "id": "hh594pidLlmI",
        "colab": {
          "base_uri": "https://localhost:8080/"
        },
        "outputId": "6a0a32fc-42ef-4eef-b15c-bc543a9ffe33"
      },
      "outputs": [
        {
          "output_type": "stream",
          "name": "stdout",
          "text": [
            "n= 4 , I= 1.2574614787467475\n",
            "n= 20 , I= 1.6340856350779338\n"
          ]
        }
      ],
      "source": [
        "x0 = -3.0; xn = 3.0 \n",
        "f = lambda x: np.sin(e**x)\n",
        "\n",
        "for n in [4,20]:\n",
        "    h = (xn-x0)/n\n",
        "    x = np.linspace(x0, xn, n+1) \n",
        "    y = f(x)\n",
        "    # Regra 3/8 de Simpson usando funções do numpy\n",
        "    I = (3*h/8)*(y[0] + 3*np.sum(y[1:n-1:3]+y[2:n:3]) +\\\n",
        "                 2*np.sum(y[3:n:3])+ y[-1])\n",
        "    print (\"n=\",n,\", I=\",I)"
      ]
    },
    {
      "cell_type": "code",
      "source": [
        "h0 = 1\n",
        "x0 = -3.0; xn = 3.0 \n",
        "\n",
        "# criamos a lista com os pontos xi h0 passos\n",
        "X0 = np.arange(x0, xn+h0, h0) \n",
        "#print (\"pontos xi para h0:\", X0)\n",
        "\n",
        "\n",
        "\n",
        "# lista com y0, a ser preenchida pelos yi\n",
        "Y = [0]                  \n",
        "Z = [0]\n",
        "# entramos com f(x)\n",
        "w = lambda x: np.sin(e**x)\n",
        "\n",
        "# laço para ir calculando os yi e preenchendo a lista\n",
        "for n in range(6):\n",
        "    Y.append(Y[n] + w(Y[n])*h0 ) #Y[-1] é o último yi calculado\n",
        "\n",
        "\n",
        "\n",
        "# imprime\n",
        "\n",
        "s = lambda t: ((1/5)*t*e**(3*t)) - ((1/25)*e**(3*t)) + (1/25)*e**-(2*t)\n",
        "\n",
        "\n",
        "# plota\n",
        "plt.figure(figsize=(10,10))\n",
        "plt.plot(X0, Y, \"r-\")\n",
        "plt.legend(['h=0.05','h=0.1','valor real'])\n",
        "plt.grid()\n",
        "plt.show()\n"
      ],
      "metadata": {
        "id": "oJ_dguMwaVNi",
        "colab": {
          "base_uri": "https://localhost:8080/",
          "height": 592
        },
        "outputId": "c0924bb2-fa11-49aa-e148-265d53c38369"
      },
      "execution_count": 145,
      "outputs": [
        {
          "output_type": "display_data",
          "data": {
            "text/plain": [
              "<Figure size 720x720 with 1 Axes>"
            ],
            "image/png": "[encoded data removed]"
          },
          "metadata": {
            "needs_background": "light"
          }
        }
      ]
    },
    {
      "cell_type": "code",
      "source": [],
      "metadata": {
        "id": "sgkZcxYbaXcx"
      },
      "execution_count": null,
      "outputs": []
    },
    {
      "cell_type": "markdown",
      "metadata": {
        "id": "NuvtGqQcLlmI"
      },
      "source": [
        "\n",
        "### Questão 5\n",
        "Usando o método de Euler, determine uma solução aproximada para o PVI dado por\n",
        "\n",
        "$$ \\begin{cases} \n",
        "y'= te^{3t}-2y \\\\\n",
        "y(0)=0\n",
        "\\end{cases}$$\n",
        "\n",
        "com $t \\in [0,1]$, $h=0,1$ e $h=0,05$. Faça o gráfico das soluções aproximadas e compare com a solução exata $y(t)= \\frac{1}{5}te^{3t}-\\frac{1}{25}e^{3t}+\\frac{1}{25}e^{-2t}$.\n"
      ]
    },
    {
      "cell_type": "code",
      "source": [
        "h0 = 0.1 #passo\n",
        "h1 = 0.05\n",
        "x0 = 0.0\n",
        "xn = 1.0\n",
        "\n",
        "# criamos a lista com os pontos xi h0 passos\n",
        "X0 = np.arange(x0, xn+h0, h0) \n",
        "#print (\"pontos xi para h0:\", X0)\n",
        "\n",
        "# criamos a lista com os pontos xi h1 passos\n",
        "X1 = np.arange(x0, xn+h1, h1) \n",
        "#print (\"pontos xi para h1:\", X1)\n",
        "\n",
        "# lista com y0, a ser preenchida pelos yi\n",
        "Y = [0]                  \n",
        "Z = [0]\n",
        "# entramos com f(x,y)\n",
        "w = lambda t,y: t*e**(3*t)-2*y\n",
        "\n",
        "# laço para ir calculando os yi e preenchendo a lista\n",
        "for n in range(len(X0)-1):\n",
        "    Y.append(Y[n] + w(X0[n],Y[n])*h0 ) #Y[-1] é o último yi calculado\n",
        "\n",
        "# laço para ir calculando os Zi e preenchendo a lista\n",
        "for n in range(len(X1)-1):\n",
        "    Z.append(Z[n] + w(X1[n],Z[n])*h1 ) #Z[-1] é o último yi calculado\n",
        "\n",
        "# imprime\n",
        "#print(\"pontos yi para h0:\", Y)\n",
        "#print(\"pontos yi para h1\", Z)\n",
        "s = lambda t: ((1/5)*t*e**(3*t)) - ((1/25)*e**(3*t)) + (1/25)*e**-(2*t)\n",
        "Xe = np.linspace(x0,xn, 20)\n",
        "Ye = s(Xe)\n",
        "\n",
        "\n",
        "# plota\n",
        "plt.figure(figsize=(10,10))\n",
        "plt.plot(X0, Y, \"r-\", X1, Z, \"b-\",Xe, Ye, 'green')\n",
        "plt.legend(['h=0.05','h=0.1','valor real'])\n",
        "plt.grid()\n",
        "plt.show()\n"
      ],
      "metadata": {
        "id": "dh7P__N1aWxh",
        "colab": {
          "base_uri": "https://localhost:8080/",
          "height": 592
        },
        "outputId": "01ac62c9-df30-4597-8eb0-16c053300715"
      },
      "execution_count": null,
      "outputs": [
        {
          "output_type": "display_data",
          "data": {
            "text/plain": [
              "<Figure size 720x720 with 1 Axes>"
            ],
            "image/png": "[encoded data removed]"
          },
          "metadata": {
            "needs_background": "light"
          }
        }
      ]
    },
    {
      "cell_type": "markdown",
      "source": [
        "COMENTÁRIO: Quanto maior o número de passos mairo será a precisão."
      ],
      "metadata": {
        "id": "LEbexpRJ8qwj"
      }
    }
  ],
  "metadata": {
    "kernelspec": {
      "display_name": "Python 3",
      "language": "python",
      "name": "python3"
    },
    "language_info": {
      "codemirror_mode": {
        "name": "ipython",
        "version": 3
      },
      "file_extension": ".py",
      "mimetype": "text/x-python",
      "name": "python",
      "nbconvert_exporter": "python",
      "pygments_lexer": "ipython3",
      "version": "3.8.5"
    },
    "colab": {
      "provenance": [],
      "include_colab_link": true
    }
  },
  "nbformat": 4,
  "nbformat_minor": 0
}